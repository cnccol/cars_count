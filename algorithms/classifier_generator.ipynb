{
 "cells": [
  {
   "cell_type": "code",
   "execution_count": 1,
   "metadata": {},
   "outputs": [],
   "source": [
    "from cars_utils import make_training_dataset\n",
    "import pandas as pd\n",
    "import numpy as np\n",
    "import sys"
   ]
  },
  {
   "cell_type": "code",
   "execution_count": 2,
   "metadata": {},
   "outputs": [],
   "source": [
    "df_dia = pd.read_csv('tests/labeled/r_dia_k - 1 - Final.csv', index_col=0)\n",
    "df_noche = pd.read_csv('tests/labeled/r_noche_k - Final.csv', index_col=0)"
   ]
  },
  {
   "cell_type": "code",
   "execution_count": 3,
   "metadata": {},
   "outputs": [],
   "source": [
    "df_noche.frame_number = df_noche.frame_number + 73000\n",
    "df = pd.concat([df_dia, df_noche], ignore_index=True)"
   ]
  },
  {
   "cell_type": "code",
   "execution_count": 4,
   "metadata": {},
   "outputs": [],
   "source": [
    "df[['x_centroid', 'y_centroid']] = df.yolo_centroid.str[1:-1].str.split(',', expand=True).astype('float')"
   ]
  },
  {
   "cell_type": "code",
   "execution_count": 5,
   "metadata": {},
   "outputs": [],
   "source": [
    "df = df.drop(columns=['vehicle_type', 'yolo_confidence', 'yolo_centroid'])"
   ]
  },
  {
   "cell_type": "code",
   "execution_count": 6,
   "metadata": {},
   "outputs": [
    {
     "data": {
      "text/html": [
       "<div>\n",
       "<style scoped>\n",
       "    .dataframe tbody tr th:only-of-type {\n",
       "        vertical-align: middle;\n",
       "    }\n",
       "\n",
       "    .dataframe tbody tr th {\n",
       "        vertical-align: top;\n",
       "    }\n",
       "\n",
       "    .dataframe thead th {\n",
       "        text-align: right;\n",
       "    }\n",
       "</style>\n",
       "<table border=\"1\" class=\"dataframe\">\n",
       "  <thead>\n",
       "    <tr style=\"text-align: right;\">\n",
       "      <th></th>\n",
       "      <th>frame_number</th>\n",
       "      <th>yolo_rect_area</th>\n",
       "      <th>b_mean</th>\n",
       "      <th>g_mean</th>\n",
       "      <th>r_mean</th>\n",
       "      <th>plate</th>\n",
       "      <th>plate_confidence</th>\n",
       "      <th>Label</th>\n",
       "      <th>Numero carro</th>\n",
       "      <th>Talanquera</th>\n",
       "      <th>x_centroid</th>\n",
       "      <th>y_centroid</th>\n",
       "    </tr>\n",
       "  </thead>\n",
       "  <tbody>\n",
       "    <tr>\n",
       "      <td>0</td>\n",
       "      <td>1</td>\n",
       "      <td>242606</td>\n",
       "      <td>86.896787</td>\n",
       "      <td>87.765991</td>\n",
       "      <td>102.278505</td>\n",
       "      <td>NaN</td>\n",
       "      <td>NaN</td>\n",
       "      <td>1.0</td>\n",
       "      <td>1.0</td>\n",
       "      <td>1.0</td>\n",
       "      <td>673.5</td>\n",
       "      <td>266.0</td>\n",
       "    </tr>\n",
       "    <tr>\n",
       "      <td>1</td>\n",
       "      <td>2</td>\n",
       "      <td>239328</td>\n",
       "      <td>86.780690</td>\n",
       "      <td>87.449471</td>\n",
       "      <td>102.158180</td>\n",
       "      <td>NaN</td>\n",
       "      <td>NaN</td>\n",
       "      <td>1.0</td>\n",
       "      <td>1.0</td>\n",
       "      <td>1.0</td>\n",
       "      <td>674.0</td>\n",
       "      <td>266.0</td>\n",
       "    </tr>\n",
       "    <tr>\n",
       "      <td>2</td>\n",
       "      <td>3</td>\n",
       "      <td>240929</td>\n",
       "      <td>86.756933</td>\n",
       "      <td>87.457608</td>\n",
       "      <td>102.179792</td>\n",
       "      <td>NaN</td>\n",
       "      <td>NaN</td>\n",
       "      <td>1.0</td>\n",
       "      <td>1.0</td>\n",
       "      <td>1.0</td>\n",
       "      <td>673.5</td>\n",
       "      <td>266.5</td>\n",
       "    </tr>\n",
       "    <tr>\n",
       "      <td>3</td>\n",
       "      <td>4</td>\n",
       "      <td>241791</td>\n",
       "      <td>86.973043</td>\n",
       "      <td>87.615283</td>\n",
       "      <td>102.400023</td>\n",
       "      <td>ZZL578</td>\n",
       "      <td>90.968361</td>\n",
       "      <td>1.0</td>\n",
       "      <td>1.0</td>\n",
       "      <td>1.0</td>\n",
       "      <td>673.5</td>\n",
       "      <td>266.5</td>\n",
       "    </tr>\n",
       "    <tr>\n",
       "      <td>4</td>\n",
       "      <td>5</td>\n",
       "      <td>240108</td>\n",
       "      <td>86.765860</td>\n",
       "      <td>87.351346</td>\n",
       "      <td>102.312597</td>\n",
       "      <td>NaN</td>\n",
       "      <td>NaN</td>\n",
       "      <td>1.0</td>\n",
       "      <td>1.0</td>\n",
       "      <td>1.0</td>\n",
       "      <td>673.5</td>\n",
       "      <td>267.0</td>\n",
       "    </tr>\n",
       "  </tbody>\n",
       "</table>\n",
       "</div>"
      ],
      "text/plain": [
       "   frame_number  yolo_rect_area     b_mean     g_mean      r_mean   plate  \\\n",
       "0             1          242606  86.896787  87.765991  102.278505     NaN   \n",
       "1             2          239328  86.780690  87.449471  102.158180     NaN   \n",
       "2             3          240929  86.756933  87.457608  102.179792     NaN   \n",
       "3             4          241791  86.973043  87.615283  102.400023  ZZL578   \n",
       "4             5          240108  86.765860  87.351346  102.312597     NaN   \n",
       "\n",
       "   plate_confidence  Label  Numero carro  Talanquera  x_centroid  y_centroid  \n",
       "0               NaN    1.0           1.0         1.0       673.5       266.0  \n",
       "1               NaN    1.0           1.0         1.0       674.0       266.0  \n",
       "2               NaN    1.0           1.0         1.0       673.5       266.5  \n",
       "3         90.968361    1.0           1.0         1.0       673.5       266.5  \n",
       "4               NaN    1.0           1.0         1.0       673.5       267.0  "
      ]
     },
     "execution_count": 6,
     "metadata": {},
     "output_type": "execute_result"
    }
   ],
   "source": [
    "df.head()"
   ]
  },
  {
   "cell_type": "code",
   "execution_count": 7,
   "metadata": {},
   "outputs": [],
   "source": [
    "data_df = make_training_dataset(df, windows=[1,3,10,25,50])"
   ]
  },
  {
   "cell_type": "code",
   "execution_count": 8,
   "metadata": {},
   "outputs": [
    {
     "data": {
      "text/plain": [
       "Index(['ID', 'frame_number_1', 'yolo_rect_area_1', 'b_mean_1', 'g_mean_1',\n",
       "       'r_mean_1', 'x_centroid_1', 'y_centroid_1', 'frame_number_2',\n",
       "       'yolo_rect_area_2', 'b_mean_2', 'g_mean_2', 'r_mean_2', 'x_centroid_2',\n",
       "       'y_centroid_2', 'different_cars'],\n",
       "      dtype='object')"
      ]
     },
     "execution_count": 8,
     "metadata": {},
     "output_type": "execute_result"
    }
   ],
   "source": [
    "data_df.columns"
   ]
  },
  {
   "cell_type": "code",
   "execution_count": 9,
   "metadata": {},
   "outputs": [
    {
     "data": {
      "text/html": [
       "<div>\n",
       "<style scoped>\n",
       "    .dataframe tbody tr th:only-of-type {\n",
       "        vertical-align: middle;\n",
       "    }\n",
       "\n",
       "    .dataframe tbody tr th {\n",
       "        vertical-align: top;\n",
       "    }\n",
       "\n",
       "    .dataframe thead th {\n",
       "        text-align: right;\n",
       "    }\n",
       "</style>\n",
       "<table border=\"1\" class=\"dataframe\">\n",
       "  <thead>\n",
       "    <tr style=\"text-align: right;\">\n",
       "      <th></th>\n",
       "      <th>ID</th>\n",
       "      <th>frame_number_1</th>\n",
       "      <th>yolo_rect_area_1</th>\n",
       "      <th>b_mean_1</th>\n",
       "      <th>g_mean_1</th>\n",
       "      <th>r_mean_1</th>\n",
       "      <th>x_centroid_1</th>\n",
       "      <th>y_centroid_1</th>\n",
       "      <th>frame_number_2</th>\n",
       "      <th>yolo_rect_area_2</th>\n",
       "      <th>b_mean_2</th>\n",
       "      <th>g_mean_2</th>\n",
       "      <th>r_mean_2</th>\n",
       "      <th>x_centroid_2</th>\n",
       "      <th>y_centroid_2</th>\n",
       "      <th>different_cars</th>\n",
       "    </tr>\n",
       "  </thead>\n",
       "  <tbody>\n",
       "    <tr>\n",
       "      <td>0</td>\n",
       "      <td>0_1</td>\n",
       "      <td>1.0</td>\n",
       "      <td>242606.0</td>\n",
       "      <td>86.896787</td>\n",
       "      <td>87.765991</td>\n",
       "      <td>102.278505</td>\n",
       "      <td>673.5</td>\n",
       "      <td>266.0</td>\n",
       "      <td>2.0</td>\n",
       "      <td>239328.0</td>\n",
       "      <td>86.780690</td>\n",
       "      <td>87.449471</td>\n",
       "      <td>102.158180</td>\n",
       "      <td>674.0</td>\n",
       "      <td>266.0</td>\n",
       "      <td>0</td>\n",
       "    </tr>\n",
       "    <tr>\n",
       "      <td>1</td>\n",
       "      <td>0_3</td>\n",
       "      <td>1.0</td>\n",
       "      <td>242606.0</td>\n",
       "      <td>86.896787</td>\n",
       "      <td>87.765991</td>\n",
       "      <td>102.278505</td>\n",
       "      <td>673.5</td>\n",
       "      <td>266.0</td>\n",
       "      <td>4.0</td>\n",
       "      <td>241791.0</td>\n",
       "      <td>86.973043</td>\n",
       "      <td>87.615283</td>\n",
       "      <td>102.400023</td>\n",
       "      <td>673.5</td>\n",
       "      <td>266.5</td>\n",
       "      <td>0</td>\n",
       "    </tr>\n",
       "    <tr>\n",
       "      <td>2</td>\n",
       "      <td>0_10</td>\n",
       "      <td>1.0</td>\n",
       "      <td>242606.0</td>\n",
       "      <td>86.896787</td>\n",
       "      <td>87.765991</td>\n",
       "      <td>102.278505</td>\n",
       "      <td>673.5</td>\n",
       "      <td>266.0</td>\n",
       "      <td>11.0</td>\n",
       "      <td>264306.0</td>\n",
       "      <td>92.186829</td>\n",
       "      <td>91.370476</td>\n",
       "      <td>108.528603</td>\n",
       "      <td>672.5</td>\n",
       "      <td>269.0</td>\n",
       "      <td>0</td>\n",
       "    </tr>\n",
       "    <tr>\n",
       "      <td>3</td>\n",
       "      <td>0_25</td>\n",
       "      <td>1.0</td>\n",
       "      <td>242606.0</td>\n",
       "      <td>86.896787</td>\n",
       "      <td>87.765991</td>\n",
       "      <td>102.278505</td>\n",
       "      <td>673.5</td>\n",
       "      <td>266.0</td>\n",
       "      <td>26.0</td>\n",
       "      <td>470586.0</td>\n",
       "      <td>92.384321</td>\n",
       "      <td>91.661624</td>\n",
       "      <td>110.075699</td>\n",
       "      <td>562.5</td>\n",
       "      <td>345.0</td>\n",
       "      <td>0</td>\n",
       "    </tr>\n",
       "    <tr>\n",
       "      <td>4</td>\n",
       "      <td>0_50</td>\n",
       "      <td>1.0</td>\n",
       "      <td>242606.0</td>\n",
       "      <td>86.896787</td>\n",
       "      <td>87.765991</td>\n",
       "      <td>102.278505</td>\n",
       "      <td>673.5</td>\n",
       "      <td>266.0</td>\n",
       "      <td>216.0</td>\n",
       "      <td>82110.0</td>\n",
       "      <td>98.855840</td>\n",
       "      <td>94.014724</td>\n",
       "      <td>89.656741</td>\n",
       "      <td>770.0</td>\n",
       "      <td>185.5</td>\n",
       "      <td>1</td>\n",
       "    </tr>\n",
       "  </tbody>\n",
       "</table>\n",
       "</div>"
      ],
      "text/plain": [
       "     ID  frame_number_1  yolo_rect_area_1   b_mean_1   g_mean_1    r_mean_1  \\\n",
       "0   0_1             1.0          242606.0  86.896787  87.765991  102.278505   \n",
       "1   0_3             1.0          242606.0  86.896787  87.765991  102.278505   \n",
       "2  0_10             1.0          242606.0  86.896787  87.765991  102.278505   \n",
       "3  0_25             1.0          242606.0  86.896787  87.765991  102.278505   \n",
       "4  0_50             1.0          242606.0  86.896787  87.765991  102.278505   \n",
       "\n",
       "   x_centroid_1  y_centroid_1  frame_number_2  yolo_rect_area_2   b_mean_2  \\\n",
       "0         673.5         266.0             2.0          239328.0  86.780690   \n",
       "1         673.5         266.0             4.0          241791.0  86.973043   \n",
       "2         673.5         266.0            11.0          264306.0  92.186829   \n",
       "3         673.5         266.0            26.0          470586.0  92.384321   \n",
       "4         673.5         266.0           216.0           82110.0  98.855840   \n",
       "\n",
       "    g_mean_2    r_mean_2  x_centroid_2  y_centroid_2  different_cars  \n",
       "0  87.449471  102.158180         674.0         266.0               0  \n",
       "1  87.615283  102.400023         673.5         266.5               0  \n",
       "2  91.370476  108.528603         672.5         269.0               0  \n",
       "3  91.661624  110.075699         562.5         345.0               0  \n",
       "4  94.014724   89.656741         770.0         185.5               1  "
      ]
     },
     "execution_count": 9,
     "metadata": {},
     "output_type": "execute_result"
    }
   ],
   "source": [
    "data_df.head()"
   ]
  },
  {
   "cell_type": "code",
   "execution_count": 10,
   "metadata": {},
   "outputs": [],
   "source": [
    "data_df = data_df[['yolo_rect_area_1', 'b_mean_1', 'g_mean_1', 'r_mean_1', \n",
    "                   'x_centroid_1', 'y_centroid_1','yolo_rect_area_2', 'b_mean_2', \n",
    "                   'g_mean_2', 'r_mean_2', 'x_centroid_2', 'y_centroid_2', \n",
    "                   'different_cars']]"
   ]
  },
  {
   "cell_type": "code",
   "execution_count": 11,
   "metadata": {},
   "outputs": [
    {
     "data": {
      "text/plain": [
       "0    225760\n",
       "1     20940\n",
       "Name: different_cars, dtype: int64"
      ]
     },
     "execution_count": 11,
     "metadata": {},
     "output_type": "execute_result"
    }
   ],
   "source": [
    "data_df.different_cars.value_counts()"
   ]
  },
  {
   "cell_type": "code",
   "execution_count": 12,
   "metadata": {},
   "outputs": [],
   "source": [
    "from sklearn.model_selection import StratifiedShuffleSplit\n",
    "\n",
    "split = StratifiedShuffleSplit(n_splits=1, test_size=0.20, random_state=42)\n",
    "\n",
    "for train_index, test_index in split.split(data_df, data_df[\"different_cars\"]):\n",
    "    train_set = data_df.loc[train_index]\n",
    "    test_set = data_df.loc[test_index]"
   ]
  },
  {
   "cell_type": "code",
   "execution_count": 13,
   "metadata": {},
   "outputs": [
    {
     "data": {
      "text/plain": [
       "0    180608\n",
       "1     16752\n",
       "Name: different_cars, dtype: int64"
      ]
     },
     "execution_count": 13,
     "metadata": {},
     "output_type": "execute_result"
    }
   ],
   "source": [
    "train_set.different_cars.value_counts()"
   ]
  },
  {
   "cell_type": "code",
   "execution_count": 14,
   "metadata": {},
   "outputs": [
    {
     "data": {
      "text/plain": [
       "0    45152\n",
       "1     4188\n",
       "Name: different_cars, dtype: int64"
      ]
     },
     "execution_count": 14,
     "metadata": {},
     "output_type": "execute_result"
    }
   ],
   "source": [
    "test_set.different_cars.value_counts()"
   ]
  },
  {
   "cell_type": "code",
   "execution_count": 15,
   "metadata": {},
   "outputs": [],
   "source": [
    "X_train_df = train_set.drop(\"different_cars\", axis=1)\n",
    "X_test_df = test_set.drop(\"different_cars\", axis=1)\n",
    "y_train_df = train_set[\"different_cars\"].copy()\n",
    "y_test_df = test_set[\"different_cars\"].copy()"
   ]
  },
  {
   "cell_type": "code",
   "execution_count": 16,
   "metadata": {},
   "outputs": [],
   "source": [
    "X_train = X_train_df.to_numpy()\n",
    "X_test = X_test_df.to_numpy()\n",
    "y_train = y_train_df.to_numpy()\n",
    "y_test = y_test_df.to_numpy()"
   ]
  },
  {
   "cell_type": "code",
   "execution_count": 17,
   "metadata": {},
   "outputs": [],
   "source": [
    "X = np.concatenate((X_train, X_test), axis=0)\n",
    "y = np.concatenate((y_train, y_test), axis=0)"
   ]
  },
  {
   "cell_type": "code",
   "execution_count": 18,
   "metadata": {},
   "outputs": [],
   "source": [
    "from sklearn.linear_model import SGDClassifier\n",
    "from sklearn.ensemble import RandomForestClassifier\n",
    "from sklearn.tree import DecisionTreeClassifier\n",
    "from sklearn.ensemble import VotingClassifier\n",
    "from sklearn.linear_model import LogisticRegression\n",
    "from sklearn.svm import SVC\n",
    "\n",
    "from sklearn.model_selection import cross_val_score\n",
    "from sklearn.model_selection import cross_val_predict\n",
    "\n",
    "from sklearn.metrics import roc_auc_score, precision_score, recall_score"
   ]
  },
  {
   "cell_type": "markdown",
   "metadata": {},
   "source": [
    "### Stochastic Gradient Descent"
   ]
  },
  {
   "cell_type": "code",
   "execution_count": 19,
   "metadata": {},
   "outputs": [
    {
     "data": {
      "text/plain": [
       "0.8833072088518409"
      ]
     },
     "execution_count": 19,
     "metadata": {},
     "output_type": "execute_result"
    }
   ],
   "source": [
    "sgd_clf = SGDClassifier(random_state=42, class_weight=\"balanced\")\n",
    "y_pred_sgd = cross_val_predict(sgd_clf, X_train, y_train, cv=3)\n",
    "cross_val_score(sgd_clf, X_train, y_train, cv=3, scoring=\"accuracy\")\n",
    "y_pred_sgd_for_roc = cross_val_predict(sgd_clf, X_train, y_train, cv=3, method=\"decision_function\")\n",
    "roc_auc_score_sgd = roc_auc_score(y_train, y_pred_sgd_for_roc)\n",
    "roc_auc_score_sgd"
   ]
  },
  {
   "cell_type": "markdown",
   "metadata": {},
   "source": [
    "### Random Forest"
   ]
  },
  {
   "cell_type": "code",
   "execution_count": 20,
   "metadata": {},
   "outputs": [
    {
     "name": "stderr",
     "output_type": "stream",
     "text": [
      "/home/santiago/anaconda3/envs/cars/lib/python3.7/site-packages/sklearn/ensemble/forest.py:245: FutureWarning: The default value of n_estimators will change from 10 in version 0.20 to 100 in 0.22.\n",
      "  \"10 in version 0.20 to 100 in 0.22.\", FutureWarning)\n",
      "/home/santiago/anaconda3/envs/cars/lib/python3.7/site-packages/sklearn/ensemble/forest.py:245: FutureWarning: The default value of n_estimators will change from 10 in version 0.20 to 100 in 0.22.\n",
      "  \"10 in version 0.20 to 100 in 0.22.\", FutureWarning)\n",
      "/home/santiago/anaconda3/envs/cars/lib/python3.7/site-packages/sklearn/ensemble/forest.py:245: FutureWarning: The default value of n_estimators will change from 10 in version 0.20 to 100 in 0.22.\n",
      "  \"10 in version 0.20 to 100 in 0.22.\", FutureWarning)\n",
      "/home/santiago/anaconda3/envs/cars/lib/python3.7/site-packages/sklearn/ensemble/forest.py:245: FutureWarning: The default value of n_estimators will change from 10 in version 0.20 to 100 in 0.22.\n",
      "  \"10 in version 0.20 to 100 in 0.22.\", FutureWarning)\n",
      "/home/santiago/anaconda3/envs/cars/lib/python3.7/site-packages/sklearn/ensemble/forest.py:245: FutureWarning: The default value of n_estimators will change from 10 in version 0.20 to 100 in 0.22.\n",
      "  \"10 in version 0.20 to 100 in 0.22.\", FutureWarning)\n",
      "/home/santiago/anaconda3/envs/cars/lib/python3.7/site-packages/sklearn/ensemble/forest.py:245: FutureWarning: The default value of n_estimators will change from 10 in version 0.20 to 100 in 0.22.\n",
      "  \"10 in version 0.20 to 100 in 0.22.\", FutureWarning)\n"
     ]
    },
    {
     "data": {
      "text/plain": [
       "0.9969958246031382"
      ]
     },
     "execution_count": 20,
     "metadata": {},
     "output_type": "execute_result"
    }
   ],
   "source": [
    "forest_clf = RandomForestClassifier(random_state=42, n_jobs=-1)#class_weight=\"balanced\"\n",
    "cross_val_score(forest_clf, X_train, y_train, cv=3, scoring=\"recall\")\n",
    "y_probas_forest =  cross_val_predict(forest_clf, X_train, y_train, cv=3, method=\"predict_proba\")\n",
    "y_pred_forest = y_probas_forest[:, 1]\n",
    "roc_auc_score_forest = roc_auc_score(y_train, y_pred_forest)\n",
    "roc_auc_score_forest"
   ]
  },
  {
   "cell_type": "markdown",
   "metadata": {},
   "source": [
    "### Decision Tree"
   ]
  },
  {
   "cell_type": "code",
   "execution_count": 21,
   "metadata": {},
   "outputs": [
    {
     "data": {
      "text/plain": [
       "0.9432787847319352"
      ]
     },
     "execution_count": 21,
     "metadata": {},
     "output_type": "execute_result"
    }
   ],
   "source": [
    "dtree_clf = DecisionTreeClassifier(max_depth=6, random_state=42)#class_weight=\"balanced\"\n",
    "cross_val_score(dtree_clf, X_train, y_train, cv=3, scoring=\"recall\")\n",
    "y_probas_dtree = cross_val_predict(dtree_clf, X_train, y_train, cv=3, method=\"predict_proba\")\n",
    "y_pred_dtree = y_probas_dtree[:, 1]\n",
    "roc_auc_score_dtree = roc_auc_score(y_train, y_pred_dtree)\n",
    "roc_auc_score_dtree"
   ]
  },
  {
   "cell_type": "markdown",
   "metadata": {},
   "source": [
    "### LogReg"
   ]
  },
  {
   "cell_type": "code",
   "execution_count": 22,
   "metadata": {},
   "outputs": [
    {
     "name": "stderr",
     "output_type": "stream",
     "text": [
      "/home/santiago/anaconda3/envs/cars/lib/python3.7/site-packages/sklearn/linear_model/logistic.py:432: FutureWarning: Default solver will be changed to 'lbfgs' in 0.22. Specify a solver to silence this warning.\n",
      "  FutureWarning)\n",
      "/home/santiago/anaconda3/envs/cars/lib/python3.7/site-packages/sklearn/linear_model/logistic.py:1544: UserWarning: 'n_jobs' > 1 does not have any effect when 'solver' is set to 'liblinear'. Got 'n_jobs' = 12.\n",
      "  \" = {}.\".format(effective_n_jobs(self.n_jobs)))\n",
      "/home/santiago/anaconda3/envs/cars/lib/python3.7/site-packages/sklearn/linear_model/logistic.py:432: FutureWarning: Default solver will be changed to 'lbfgs' in 0.22. Specify a solver to silence this warning.\n",
      "  FutureWarning)\n",
      "/home/santiago/anaconda3/envs/cars/lib/python3.7/site-packages/sklearn/linear_model/logistic.py:1544: UserWarning: 'n_jobs' > 1 does not have any effect when 'solver' is set to 'liblinear'. Got 'n_jobs' = 12.\n",
      "  \" = {}.\".format(effective_n_jobs(self.n_jobs)))\n",
      "/home/santiago/anaconda3/envs/cars/lib/python3.7/site-packages/sklearn/linear_model/logistic.py:432: FutureWarning: Default solver will be changed to 'lbfgs' in 0.22. Specify a solver to silence this warning.\n",
      "  FutureWarning)\n",
      "/home/santiago/anaconda3/envs/cars/lib/python3.7/site-packages/sklearn/linear_model/logistic.py:1544: UserWarning: 'n_jobs' > 1 does not have any effect when 'solver' is set to 'liblinear'. Got 'n_jobs' = 12.\n",
      "  \" = {}.\".format(effective_n_jobs(self.n_jobs)))\n",
      "/home/santiago/anaconda3/envs/cars/lib/python3.7/site-packages/sklearn/linear_model/logistic.py:432: FutureWarning: Default solver will be changed to 'lbfgs' in 0.22. Specify a solver to silence this warning.\n",
      "  FutureWarning)\n",
      "/home/santiago/anaconda3/envs/cars/lib/python3.7/site-packages/sklearn/linear_model/logistic.py:1544: UserWarning: 'n_jobs' > 1 does not have any effect when 'solver' is set to 'liblinear'. Got 'n_jobs' = 12.\n",
      "  \" = {}.\".format(effective_n_jobs(self.n_jobs)))\n",
      "/home/santiago/anaconda3/envs/cars/lib/python3.7/site-packages/sklearn/linear_model/logistic.py:432: FutureWarning: Default solver will be changed to 'lbfgs' in 0.22. Specify a solver to silence this warning.\n",
      "  FutureWarning)\n",
      "/home/santiago/anaconda3/envs/cars/lib/python3.7/site-packages/sklearn/linear_model/logistic.py:1544: UserWarning: 'n_jobs' > 1 does not have any effect when 'solver' is set to 'liblinear'. Got 'n_jobs' = 12.\n",
      "  \" = {}.\".format(effective_n_jobs(self.n_jobs)))\n",
      "/home/santiago/anaconda3/envs/cars/lib/python3.7/site-packages/sklearn/linear_model/logistic.py:432: FutureWarning: Default solver will be changed to 'lbfgs' in 0.22. Specify a solver to silence this warning.\n",
      "  FutureWarning)\n",
      "/home/santiago/anaconda3/envs/cars/lib/python3.7/site-packages/sklearn/linear_model/logistic.py:1544: UserWarning: 'n_jobs' > 1 does not have any effect when 'solver' is set to 'liblinear'. Got 'n_jobs' = 12.\n",
      "  \" = {}.\".format(effective_n_jobs(self.n_jobs)))\n"
     ]
    },
    {
     "data": {
      "text/plain": [
       "0.9504880541173839"
      ]
     },
     "execution_count": 22,
     "metadata": {},
     "output_type": "execute_result"
    }
   ],
   "source": [
    "log_clf = LogisticRegression(random_state=42, n_jobs=-1)#class_weight=\"balanced\"\n",
    "cross_val_score(log_clf, X_train, y_train, cv=3, scoring=\"recall\")\n",
    "y_probas_log = cross_val_predict(log_clf, X_train, y_train, cv=3, method=\"predict_proba\")\n",
    "y_pred_log = y_probas_log[:, 1]\n",
    "roc_auc_score_log = roc_auc_score(y_train, y_pred_log)\n",
    "roc_auc_score_log"
   ]
  },
  {
   "cell_type": "markdown",
   "metadata": {},
   "source": [
    "### SVM"
   ]
  },
  {
   "cell_type": "code",
   "execution_count": 23,
   "metadata": {},
   "outputs": [],
   "source": [
    "#svm_clf = SVC(random_state=42)#class_weight=\"balanced\",\n",
    "#cross_val_score(svm_clf, X_train, y_train, cv=3, scoring=\"recall\")\n",
    "#y_pred_svm = cross_val_predict(svm_clf, X_train, y_train, cv=3)\n",
    "#roc_auc_score_svm = roc_auc_score(y_train, y_pred_svm)\n",
    "#roc_auc_score_svm"
   ]
  },
  {
   "cell_type": "markdown",
   "metadata": {},
   "source": [
    "### Voting"
   ]
  },
  {
   "cell_type": "code",
   "execution_count": 24,
   "metadata": {},
   "outputs": [
    {
     "name": "stderr",
     "output_type": "stream",
     "text": [
      "/home/santiago/anaconda3/envs/cars/lib/python3.7/site-packages/sklearn/linear_model/logistic.py:432: FutureWarning: Default solver will be changed to 'lbfgs' in 0.22. Specify a solver to silence this warning.\n",
      "  FutureWarning)\n",
      "/home/santiago/anaconda3/envs/cars/lib/python3.7/site-packages/sklearn/linear_model/logistic.py:1544: UserWarning: 'n_jobs' > 1 does not have any effect when 'solver' is set to 'liblinear'. Got 'n_jobs' = 12.\n",
      "  \" = {}.\".format(effective_n_jobs(self.n_jobs)))\n",
      "/home/santiago/anaconda3/envs/cars/lib/python3.7/site-packages/sklearn/ensemble/forest.py:245: FutureWarning: The default value of n_estimators will change from 10 in version 0.20 to 100 in 0.22.\n",
      "  \"10 in version 0.20 to 100 in 0.22.\", FutureWarning)\n",
      "/home/santiago/anaconda3/envs/cars/lib/python3.7/site-packages/sklearn/linear_model/logistic.py:432: FutureWarning: Default solver will be changed to 'lbfgs' in 0.22. Specify a solver to silence this warning.\n",
      "  FutureWarning)\n",
      "/home/santiago/anaconda3/envs/cars/lib/python3.7/site-packages/sklearn/linear_model/logistic.py:1544: UserWarning: 'n_jobs' > 1 does not have any effect when 'solver' is set to 'liblinear'. Got 'n_jobs' = 12.\n",
      "  \" = {}.\".format(effective_n_jobs(self.n_jobs)))\n",
      "/home/santiago/anaconda3/envs/cars/lib/python3.7/site-packages/sklearn/ensemble/forest.py:245: FutureWarning: The default value of n_estimators will change from 10 in version 0.20 to 100 in 0.22.\n",
      "  \"10 in version 0.20 to 100 in 0.22.\", FutureWarning)\n",
      "/home/santiago/anaconda3/envs/cars/lib/python3.7/site-packages/sklearn/linear_model/logistic.py:432: FutureWarning: Default solver will be changed to 'lbfgs' in 0.22. Specify a solver to silence this warning.\n",
      "  FutureWarning)\n",
      "/home/santiago/anaconda3/envs/cars/lib/python3.7/site-packages/sklearn/linear_model/logistic.py:1544: UserWarning: 'n_jobs' > 1 does not have any effect when 'solver' is set to 'liblinear'. Got 'n_jobs' = 12.\n",
      "  \" = {}.\".format(effective_n_jobs(self.n_jobs)))\n",
      "/home/santiago/anaconda3/envs/cars/lib/python3.7/site-packages/sklearn/ensemble/forest.py:245: FutureWarning: The default value of n_estimators will change from 10 in version 0.20 to 100 in 0.22.\n",
      "  \"10 in version 0.20 to 100 in 0.22.\", FutureWarning)\n",
      "/home/santiago/anaconda3/envs/cars/lib/python3.7/site-packages/sklearn/linear_model/logistic.py:432: FutureWarning: Default solver will be changed to 'lbfgs' in 0.22. Specify a solver to silence this warning.\n",
      "  FutureWarning)\n",
      "/home/santiago/anaconda3/envs/cars/lib/python3.7/site-packages/sklearn/linear_model/logistic.py:1544: UserWarning: 'n_jobs' > 1 does not have any effect when 'solver' is set to 'liblinear'. Got 'n_jobs' = 12.\n",
      "  \" = {}.\".format(effective_n_jobs(self.n_jobs)))\n",
      "/home/santiago/anaconda3/envs/cars/lib/python3.7/site-packages/sklearn/ensemble/forest.py:245: FutureWarning: The default value of n_estimators will change from 10 in version 0.20 to 100 in 0.22.\n",
      "  \"10 in version 0.20 to 100 in 0.22.\", FutureWarning)\n",
      "/home/santiago/anaconda3/envs/cars/lib/python3.7/site-packages/sklearn/linear_model/logistic.py:432: FutureWarning: Default solver will be changed to 'lbfgs' in 0.22. Specify a solver to silence this warning.\n",
      "  FutureWarning)\n",
      "/home/santiago/anaconda3/envs/cars/lib/python3.7/site-packages/sklearn/linear_model/logistic.py:1544: UserWarning: 'n_jobs' > 1 does not have any effect when 'solver' is set to 'liblinear'. Got 'n_jobs' = 12.\n",
      "  \" = {}.\".format(effective_n_jobs(self.n_jobs)))\n",
      "/home/santiago/anaconda3/envs/cars/lib/python3.7/site-packages/sklearn/ensemble/forest.py:245: FutureWarning: The default value of n_estimators will change from 10 in version 0.20 to 100 in 0.22.\n",
      "  \"10 in version 0.20 to 100 in 0.22.\", FutureWarning)\n",
      "/home/santiago/anaconda3/envs/cars/lib/python3.7/site-packages/sklearn/linear_model/logistic.py:432: FutureWarning: Default solver will be changed to 'lbfgs' in 0.22. Specify a solver to silence this warning.\n",
      "  FutureWarning)\n",
      "/home/santiago/anaconda3/envs/cars/lib/python3.7/site-packages/sklearn/linear_model/logistic.py:1544: UserWarning: 'n_jobs' > 1 does not have any effect when 'solver' is set to 'liblinear'. Got 'n_jobs' = 12.\n",
      "  \" = {}.\".format(effective_n_jobs(self.n_jobs)))\n",
      "/home/santiago/anaconda3/envs/cars/lib/python3.7/site-packages/sklearn/ensemble/forest.py:245: FutureWarning: The default value of n_estimators will change from 10 in version 0.20 to 100 in 0.22.\n",
      "  \"10 in version 0.20 to 100 in 0.22.\", FutureWarning)\n"
     ]
    },
    {
     "name": "stdout",
     "output_type": "stream",
     "text": [
      "Model scores after cross_validation:\n",
      "    -SGD: 0.8833072088518409\n",
      "    -RForest: 0.9969958246031382\n",
      "    -DTree: 0.9432787847319352\n",
      "    -Voting: 0.8760201691859296\n",
      "    -Log: 0.9504880541173839\n"
     ]
    }
   ],
   "source": [
    "voting_clf = VotingClassifier(\n",
    "    estimators=[(\"lr\", log_clf), (\"rf\", forest_clf), (\"sgd\", sgd_clf), (\"dtree\", dtree_clf)],\n",
    "    voting = \"hard\"\n",
    "    )\n",
    "cross_val_score(voting_clf, X_train, y_train, cv=3, scoring=\"recall\")\n",
    "y_pred_voting = cross_val_predict(voting_clf, X_train, y_train, cv=3)\n",
    "roc_auc_score_voting = roc_auc_score(y_train, y_pred_voting)\n",
    "roc_auc_score_voting\n",
    "\n",
    "print(\"Model scores after cross_validation:\")\n",
    "print(\"    -SGD: \" + str(roc_auc_score_sgd))\n",
    "print(\"    -RForest: \" + str(roc_auc_score_forest))\n",
    "print(\"    -DTree: \" + str(roc_auc_score_dtree))\n",
    "print(\"    -Voting: \" + str(roc_auc_score_voting))\n",
    "print(\"    -Log: \" + str(roc_auc_score_log))"
   ]
  },
  {
   "cell_type": "code",
   "execution_count": 25,
   "metadata": {},
   "outputs": [],
   "source": [
    "from sklearn.model_selection import GridSearchCV\n",
    "\n",
    "param_grid_forest = [{\"n_estimators\":[1,2,3,4,5,15,25], \n",
    "                      \"max_depth\":[1,2,3,4,5,10,15], \n",
    "                      \"criterion\":[\"gini\",\"entropy\"], \n",
    "                      \"class_weight\":[\"balanced\", None]}]"
   ]
  },
  {
   "cell_type": "code",
   "execution_count": 26,
   "metadata": {},
   "outputs": [
    {
     "data": {
      "text/plain": [
       "GridSearchCV(cv=3, error_score='raise-deprecating',\n",
       "             estimator=RandomForestClassifier(bootstrap=True, class_weight=None,\n",
       "                                              criterion='gini', max_depth=None,\n",
       "                                              max_features='auto',\n",
       "                                              max_leaf_nodes=None,\n",
       "                                              min_impurity_decrease=0.0,\n",
       "                                              min_impurity_split=None,\n",
       "                                              min_samples_leaf=1,\n",
       "                                              min_samples_split=2,\n",
       "                                              min_weight_fraction_leaf=0.0,\n",
       "                                              n_estimators='warn', n_jobs=-1,\n",
       "                                              oob_score=False, random_state=42,\n",
       "                                              verbose=0, warm_start=False),\n",
       "             iid='warn', n_jobs=-1,\n",
       "             param_grid=[{'class_weight': ['balanced', None],\n",
       "                          'criterion': ['gini', 'entropy'],\n",
       "                          'max_depth': [1, 2, 3, 4, 5, 10, 15],\n",
       "                          'n_estimators': [1, 2, 3, 4, 5, 15, 25]}],\n",
       "             pre_dispatch='2*n_jobs', refit=True, return_train_score=False,\n",
       "             scoring='roc_auc', verbose=0)"
      ]
     },
     "execution_count": 26,
     "metadata": {},
     "output_type": "execute_result"
    }
   ],
   "source": [
    "grid_search_forest =  GridSearchCV(forest_clf, param_grid_forest, cv=3, scoring=\"roc_auc\", n_jobs=-1)\n",
    "grid_search_forest.fit(X_train, y_train)"
   ]
  },
  {
   "cell_type": "code",
   "execution_count": 27,
   "metadata": {},
   "outputs": [
    {
     "name": "stdout",
     "output_type": "stream",
     "text": [
      "RandomForestClassifier(bootstrap=True, class_weight='balanced',\n",
      "                       criterion='entropy', max_depth=15, max_features='auto',\n",
      "                       max_leaf_nodes=None, min_impurity_decrease=0.0,\n",
      "                       min_impurity_split=None, min_samples_leaf=1,\n",
      "                       min_samples_split=2, min_weight_fraction_leaf=0.0,\n",
      "                       n_estimators=25, n_jobs=-1, oob_score=False,\n",
      "                       random_state=42, verbose=0, warm_start=False)\n",
      "0.9989847831340436\n",
      "{'class_weight': 'balanced', 'criterion': 'entropy', 'max_depth': 15, 'n_estimators': 25}\n"
     ]
    }
   ],
   "source": [
    "print(grid_search_forest.best_estimator_)\n",
    "print(grid_search_forest.best_score_)\n",
    "print(grid_search_forest.best_params_)"
   ]
  },
  {
   "cell_type": "code",
   "execution_count": 28,
   "metadata": {},
   "outputs": [],
   "source": [
    "forest_model = grid_search_forest.best_estimator_"
   ]
  },
  {
   "cell_type": "code",
   "execution_count": 29,
   "metadata": {},
   "outputs": [
    {
     "name": "stdout",
     "output_type": "stream",
     "text": [
      "0.9970409404134576\n"
     ]
    }
   ],
   "source": [
    "forest_model.fit(X_train, y_train)\n",
    "print(forest_model.score(X_test, y_test))"
   ]
  },
  {
   "cell_type": "code",
   "execution_count": 30,
   "metadata": {},
   "outputs": [],
   "source": [
    "forest_pred = forest_model.predict(X_test)"
   ]
  },
  {
   "cell_type": "code",
   "execution_count": 31,
   "metadata": {},
   "outputs": [
    {
     "data": {
      "text/plain": [
       "array([[45104,    48],\n",
       "       [   98,  4090]])"
      ]
     },
     "execution_count": 31,
     "metadata": {},
     "output_type": "execute_result"
    }
   ],
   "source": [
    "from sklearn.metrics import confusion_matrix\n",
    "confusion_matrix(y_test, forest_pred)"
   ]
  },
  {
   "cell_type": "code",
   "execution_count": 32,
   "metadata": {},
   "outputs": [],
   "source": [
    "forest_model.fit(X, y)\n",
    "forest_pred = forest_model.predict(X)"
   ]
  },
  {
   "cell_type": "code",
   "execution_count": 33,
   "metadata": {},
   "outputs": [
    {
     "data": {
      "text/plain": [
       "array([[225704,     56],\n",
       "       [   132,  20808]])"
      ]
     },
     "execution_count": 33,
     "metadata": {},
     "output_type": "execute_result"
    }
   ],
   "source": [
    "confusion_matrix(y, forest_pred)"
   ]
  },
  {
   "cell_type": "code",
   "execution_count": 34,
   "metadata": {},
   "outputs": [],
   "source": [
    "import pickle\n",
    "\n",
    "with open('forest.pickle', 'wb') as f:\n",
    "    pickle.dump(forest_model, f)"
   ]
  }
 ],
 "metadata": {
  "kernelspec": {
   "display_name": "Python 3",
   "language": "python",
   "name": "python3"
  },
  "language_info": {
   "codemirror_mode": {
    "name": "ipython",
    "version": 3
   },
   "file_extension": ".py",
   "mimetype": "text/x-python",
   "name": "python",
   "nbconvert_exporter": "python",
   "pygments_lexer": "ipython3",
   "version": "3.7.4"
  }
 },
 "nbformat": 4,
 "nbformat_minor": 4
}
