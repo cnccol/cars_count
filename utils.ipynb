{
 "cells": [
  {
   "cell_type": "code",
   "execution_count": 1,
   "metadata": {},
   "outputs": [],
   "source": [
    "import os \n",
    "import cv2\n",
    "import imutils\n",
    "import time"
   ]
  },
  {
   "cell_type": "code",
   "execution_count": 5,
   "metadata": {},
   "outputs": [],
   "source": [
    "def dav2avi(input_dir, output_dir):\n",
    "    \n",
    "    cwd = os.getcwd()\n",
    "    \n",
    "    if not os.path.isdir(cwd+'/converted/'+output_dir):\n",
    "        os.mkdir(cwd+'/converted/'+output_dir)\n",
    "\n",
    "    for subdir, dirs, files in os.walk(cwd+\"/\"+input_dir):\n",
    "        for file in files:\n",
    "            filepath = subdir + os.sep + file\n",
    "            filepath = filepath.replace(\" \", \"\\ \")\n",
    "            if filepath.endswith(\".dav\"):\n",
    "                destination = cwd+\"/converted/\"+file.replace('.dav', '.mp4')            \n",
    "                #print('ffmpeg -y -i '+filepath+' -vcodec libx264 -crf 24 -filter:v \"setpts=1*PTS\" '+destination)\n",
    "                print('--------------------------------------------------')\n",
    "                os.system('ffmpeg -y -i '+filepath+' -vcodec libx264 -crf 24 -filter:v \"setpts=1*PTS\" '+destination)\n",
    "                print('--- dav2mp4 DONE '+filepath+' was converted to '+destination)\n",
    "\n",
    "                mp4_file = destination\n",
    "                destination_ = mp4_file.replace('.mp4', '.avi')\n",
    "                os.system('ffmpeg -y -i '+mp4_file+' -vcodec libx264 -crf 24 -filter:v \"setpts=1*PTS\" '+destination_)\n",
    "                print('--- mp42avi DONE '+mp4_file+' was converted to '+destination_)\n",
    "                os.remove(mp4_file)\n",
    "                print(\"--- \"+mp4_file+' was deleted')\n",
    "                print('--------------------------------------------------')\n",
    "            else:\n",
    "                continue"
   ]
  },
  {
   "cell_type": "code",
   "execution_count": 17,
   "metadata": {},
   "outputs": [],
   "source": [
    "def mp42avi(input_dir, output_dir):\n",
    "    \n",
    "    cwd = os.getcwd()\n",
    "    \n",
    "    if not os.path.isdir(cwd+'/converted/'+output_dir):\n",
    "        os.mkdir(cwd+'/converted/'+output_dir)\n",
    "    \n",
    "    for subdir, dirs, files in os.walk(cwd+\"/\"+input_dir):\n",
    "        for file in files:\n",
    "            filepath = subdir + os.sep + file\n",
    "            filepath = filepath.replace(\" \", \"\\ \")\n",
    "            if filepath.endswith(\".mp4\"):\n",
    "                destination = cwd+\"/converted/\"+output_dir+\"/\"+file.replace('.mp4', '.avi')\n",
    "                print('--------------------------------------------------')\n",
    "                os.system('ffmpeg -y -i '+filepath+' -vcodec libx264 -crf 24 -filter:v \"setpts=1*PTS\" '+destination)\n",
    "                print('--- mp42avi DONE '+filepath+' was converted to '+destination)\n",
    "                print('--------------------------------------------------')\n",
    "            else:\n",
    "                continue"
   ]
  },
  {
   "cell_type": "code",
   "execution_count": 18,
   "metadata": {},
   "outputs": [
    {
     "name": "stdout",
     "output_type": "stream",
     "text": [
      "--------------------------------------------------\n",
      "--- mp42avi DONE /mnt/EC86AD3086ACFC68/cnc/cars/videos/Gualanday/drive-download-20191017T132403Z-001/ch01_20190811134634.mp4 was converted to /mnt/EC86AD3086ACFC68/cnc/cars/videos/converted/Gualanday/ch01_20190811134634.avi\n",
      "--------------------------------------------------\n",
      "--------------------------------------------------\n",
      "--- mp42avi DONE /mnt/EC86AD3086ACFC68/cnc/cars/videos/Gualanday/drive-download-20191017T132403Z-001/ch01_20190811214017.mp4 was converted to /mnt/EC86AD3086ACFC68/cnc/cars/videos/converted/Gualanday/ch01_20190811214017.avi\n",
      "--------------------------------------------------\n",
      "--------------------------------------------------\n",
      "--- mp42avi DONE /mnt/EC86AD3086ACFC68/cnc/cars/videos/Gualanday/drive-download-20191017T132403Z-001/ch01_20190812060000.mp4 was converted to /mnt/EC86AD3086ACFC68/cnc/cars/videos/converted/Gualanday/ch01_20190812060000.avi\n",
      "--------------------------------------------------\n",
      "--------------------------------------------------\n",
      "--- mp42avi DONE /mnt/EC86AD3086ACFC68/cnc/cars/videos/Gualanday/drive-download-20191017T132403Z-002/ch01_20190810224404.mp4 was converted to /mnt/EC86AD3086ACFC68/cnc/cars/videos/converted/Gualanday/ch01_20190810224404.avi\n",
      "--------------------------------------------------\n",
      "--------------------------------------------------\n",
      "--- mp42avi DONE /mnt/EC86AD3086ACFC68/cnc/cars/videos/Gualanday/drive-download-20191017T132403Z-002/ch01_20190811072822.mp4 was converted to /mnt/EC86AD3086ACFC68/cnc/cars/videos/converted/Gualanday/ch01_20190811072822.avi\n",
      "--------------------------------------------------\n",
      "--------------------------------------------------\n",
      "--- mp42avi DONE /mnt/EC86AD3086ACFC68/cnc/cars/videos/Gualanday/drive-download-20191017T132403Z-003/ch01_20190811153821.mp4 was converted to /mnt/EC86AD3086ACFC68/cnc/cars/videos/converted/Gualanday/ch01_20190811153821.avi\n",
      "--------------------------------------------------\n"
     ]
    }
   ],
   "source": [
    "mp42avi(\"Gualanday\", \"Gualanday\")"
   ]
  },
  {
   "cell_type": "code",
   "execution_count": 16,
   "metadata": {},
   "outputs": [],
   "source": [
    "def see_from_frame(video, n_frame):\n",
    "    font = cv2.FONT_HERSHEY_DUPLEX #font for cv2\n",
    "    cap = cv2.VideoCapture(video)\n",
    "    cap.set(cv2.CAP_PROP_POS_FRAMES, n_frame)\n",
    "    fps = cap.get(cv2.CAP_PROP_FPS)\n",
    "    spf = 1 / fps\n",
    "    frame_number = n_frame\n",
    "    while True:\n",
    "        t1 = time.time()\n",
    "        ret, frame = cap.read()\n",
    "        cv2.putText(frame, str(frame_number), (15,60), font, 1.0, \n",
    "                        (255,255,255), 1)\n",
    "        \n",
    "        if not ret:\n",
    "            break\n",
    "            \n",
    "        small_frame = imutils.resize(frame, height=432)\n",
    "        \n",
    "        cv2.imshow('see_from_frame', small_frame)\n",
    "        \n",
    "        key = cv2.waitKey(1) & 0xFF\n",
    "        if key == ord('q'):\n",
    "            break\n",
    "        if key == ord('p'):\n",
    "            cv2.waitKey(0) & 0xFF\n",
    "        try:\n",
    "            time.sleep(t1+spf-time.time())\n",
    "        except ValueError:\n",
    "            pass\n",
    "        frame_number+=1\n",
    "        \n",
    "    cv2.destroyAllWindows()"
   ]
  },
  {
   "cell_type": "code",
   "execution_count": 18,
   "metadata": {},
   "outputs": [],
   "source": [
    "see_from_frame('converted/Koran/NVR_ch8_main_20190701060002_20190701080002.avi', 14000)"
   ]
  },
  {
   "cell_type": "code",
   "execution_count": 3,
   "metadata": {},
   "outputs": [
    {
     "data": {
      "text/plain": [
       "'/mnt/EC86AD3086ACFC68/cnc/cars/videos'"
      ]
     },
     "execution_count": 3,
     "metadata": {},
     "output_type": "execute_result"
    }
   ],
   "source": [
    "os.getcwd()"
   ]
  },
  {
   "cell_type": "code",
   "execution_count": null,
   "metadata": {},
   "outputs": [],
   "source": []
  }
 ],
 "metadata": {
  "kernelspec": {
   "display_name": "Python 3",
   "language": "python",
   "name": "python3"
  },
  "language_info": {
   "codemirror_mode": {
    "name": "ipython",
    "version": 3
   },
   "file_extension": ".py",
   "mimetype": "text/x-python",
   "name": "python",
   "nbconvert_exporter": "python",
   "pygments_lexer": "ipython3",
   "version": "3.7.4"
  }
 },
 "nbformat": 4,
 "nbformat_minor": 4
}
