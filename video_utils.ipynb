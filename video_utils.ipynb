{
 "cells": [
  {
   "cell_type": "code",
   "execution_count": 1,
   "metadata": {},
   "outputs": [],
   "source": [
    "import os \n",
    "import cv2\n",
    "import imutils\n",
    "import time"
   ]
  },
  {
   "cell_type": "code",
   "execution_count": 2,
   "metadata": {},
   "outputs": [],
   "source": [
    "def dav2avi():\n",
    "    \n",
    "    cwd = os.getcwd()\n",
    "    \n",
    "    if not os.path.isdir(cwd+'/converted/'):\n",
    "        os.mkdir(cwd+'/converted/')\n",
    "\n",
    "    for subdir, dirs, files in os.walk(cwd):\n",
    "        for file in files:\n",
    "            filepath = subdir + os.sep + file\n",
    "            filepath = filepath.replace(\" \", \"\\ \")\n",
    "            if filepath.endswith(\".dav\"):\n",
    "                destination = cwd+\"/converted/\"+file.replace('.dav', '.mp4')            \n",
    "                #print('ffmpeg -y -i '+filepath+' -vcodec libx264 -crf 24 -filter:v \"setpts=1*PTS\" '+destination)\n",
    "                os.system('ffmpeg -y -i '+filepath+' -vcodec libx264 -crf 24 -filter:v \"setpts=1*PTS\" '+destination)\n",
    "                print('--------------------------------------------------')\n",
    "                print('--- dav2mp4 DONE '+filepath+' was converted to '+destination)\n",
    "\n",
    "                mp4_file = destination\n",
    "                destination_ = mp4_file.replace('.mp4', '.avi')\n",
    "                os.system('ffmpeg -y -i '+mp4_file+' -vcodec libx264 -crf 24 -filter:v \"setpts=1*PTS\" '+destination_)\n",
    "                print('--- mp42avi DONE '+mp4_file+' was converted to '+destination_)\n",
    "                os.remove(mp4_file)\n",
    "                print(\"--- \"+mp4_file+' was deleted')\n",
    "                print('--------------------------------------------------')\n",
    "            else:\n",
    "                continue"
   ]
  },
  {
   "cell_type": "code",
   "execution_count": 4,
   "metadata": {},
   "outputs": [
    {
     "name": "stdout",
     "output_type": "stream",
     "text": [
      "--------------------------------------------------\n",
      "--- dav2mp4 DONE /media/gmb/Data/cars/videos/carril12/NVR_ch8_main_20190701220001_20190702000002.dav was converted to /media/gmb/Data/cars/videos/converted/NVR_ch8_main_20190701220001_20190702000002.mp4\n",
      "--- mp42avi DONE /media/gmb/Data/cars/videos/converted/NVR_ch8_main_20190701220001_20190702000002.mp4 was converted to /media/gmb/Data/cars/videos/converted/NVR_ch8_main_20190701220001_20190702000002.avi\n",
      "--- /media/gmb/Data/cars/videos/converted/NVR_ch8_main_20190701220001_20190702000002.mp4 was deleted\n",
      "--------------------------------------------------\n",
      "--------------------------------------------------\n",
      "--- dav2mp4 DONE /media/gmb/Data/cars/videos/carril12/NVR_ch8_main_20190702000002_20190702020000.dav was converted to /media/gmb/Data/cars/videos/converted/NVR_ch8_main_20190702000002_20190702020000.mp4\n",
      "--- mp42avi DONE /media/gmb/Data/cars/videos/converted/NVR_ch8_main_20190702000002_20190702020000.mp4 was converted to /media/gmb/Data/cars/videos/converted/NVR_ch8_main_20190702000002_20190702020000.avi\n",
      "--- /media/gmb/Data/cars/videos/converted/NVR_ch8_main_20190702000002_20190702020000.mp4 was deleted\n",
      "--------------------------------------------------\n",
      "--------------------------------------------------\n",
      "--- dav2mp4 DONE /media/gmb/Data/cars/videos/carril12/NVR_ch8_main_20190702020000_20190702040000.dav was converted to /media/gmb/Data/cars/videos/converted/NVR_ch8_main_20190702020000_20190702040000.mp4\n",
      "--- mp42avi DONE /media/gmb/Data/cars/videos/converted/NVR_ch8_main_20190702020000_20190702040000.mp4 was converted to /media/gmb/Data/cars/videos/converted/NVR_ch8_main_20190702020000_20190702040000.avi\n",
      "--- /media/gmb/Data/cars/videos/converted/NVR_ch8_main_20190702020000_20190702040000.mp4 was deleted\n",
      "--------------------------------------------------\n",
      "--------------------------------------------------\n",
      "--- dav2mp4 DONE /media/gmb/Data/cars/videos/carril12/NVR_ch8_main_20190702040000_20190702060002.dav was converted to /media/gmb/Data/cars/videos/converted/NVR_ch8_main_20190702040000_20190702060002.mp4\n",
      "--- mp42avi DONE /media/gmb/Data/cars/videos/converted/NVR_ch8_main_20190702040000_20190702060002.mp4 was converted to /media/gmb/Data/cars/videos/converted/NVR_ch8_main_20190702040000_20190702060002.avi\n",
      "--- /media/gmb/Data/cars/videos/converted/NVR_ch8_main_20190702040000_20190702060002.mp4 was deleted\n",
      "--------------------------------------------------\n",
      "--------------------------------------------------\n",
      "--- dav2mp4 DONE /media/gmb/Data/cars/videos/carril12/NVR_ch8_main_20190702060002_20190702060500.dav was converted to /media/gmb/Data/cars/videos/converted/NVR_ch8_main_20190702060002_20190702060500.mp4\n",
      "--- mp42avi DONE /media/gmb/Data/cars/videos/converted/NVR_ch8_main_20190702060002_20190702060500.mp4 was converted to /media/gmb/Data/cars/videos/converted/NVR_ch8_main_20190702060002_20190702060500.avi\n",
      "--- /media/gmb/Data/cars/videos/converted/NVR_ch8_main_20190702060002_20190702060500.mp4 was deleted\n",
      "--------------------------------------------------\n"
     ]
    }
   ],
   "source": [
    "dav2avi()"
   ]
  },
  {
   "cell_type": "code",
   "execution_count": 2,
   "metadata": {},
   "outputs": [],
   "source": [
    "def see_from_frame(video, n_frame):\n",
    "    cap = cv2.VideoCapture(video)\n",
    "    cap.set(cv2.CAP_PROP_POS_FRAMES, n_frame)\n",
    "    fps = cap.get(cv2.CAP_PROP_FPS)\n",
    "    spf = 1 / fps\n",
    "    \n",
    "    while True:\n",
    "        t1 = time.time()\n",
    "        ret, frame = cap.read()\n",
    "        \n",
    "        if not ret:\n",
    "            break\n",
    "            \n",
    "        small_frame = imutils.resize(frame, height=432)\n",
    "        \n",
    "        cv2.imshow('see_from_frame', small_frame)\n",
    "        \n",
    "        key = cv2.waitKey(1) & 0xFF\n",
    "        if key == ord('q'):\n",
    "            break\n",
    "        if key == ord('p'):\n",
    "            cv2.waitKey(0) & 0xFF\n",
    "        try:\n",
    "            time.sleep(t1+spf-time.time())\n",
    "        except ValueError:\n",
    "            pass\n",
    "        \n",
    "    cv2.destroyAllWindows()"
   ]
  },
  {
   "cell_type": "code",
   "execution_count": 7,
   "metadata": {},
   "outputs": [],
   "source": [
    "see_from_frame('converted/NVR_ch8_main_20190701060002_20190701080002.avi', 23500)"
   ]
  },
  {
   "cell_type": "code",
   "execution_count": null,
   "metadata": {},
   "outputs": [],
   "source": []
  }
 ],
 "metadata": {
  "kernelspec": {
   "display_name": "Python 3",
   "language": "python",
   "name": "python3"
  },
  "language_info": {
   "codemirror_mode": {
    "name": "ipython",
    "version": 3
   },
   "file_extension": ".py",
   "mimetype": "text/x-python",
   "name": "python",
   "nbconvert_exporter": "python",
   "pygments_lexer": "ipython3",
   "version": "3.7.4"
  }
 },
 "nbformat": 4,
 "nbformat_minor": 4
}
